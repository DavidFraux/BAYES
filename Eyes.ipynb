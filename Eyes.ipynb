{
 "cells": [
  {
   "cell_type": "code",
   "execution_count": 69,
   "id": "b9db4d30",
   "metadata": {},
   "outputs": [],
   "source": [
    "import numpy as np\n",
    "from scipy.stats import invgamma\n",
    "from math import exp\n"
   ]
  },
  {
   "cell_type": "code",
   "execution_count": 70,
   "id": "88812cd2",
   "metadata": {},
   "outputs": [],
   "source": [
    "y = np.array([529, 530, 532, 533.1, 533.4, 533.6, 533.7, 534.1, 534.8, 535.3, \n",
    "535.4, 535.9, 536.1, 536.3, 536.4, 536.6, 537, 537.4, 537.5, \n",
    "538.3, 538.5, 538.6, 539.4, 539.6, 540.4, 540.8, 542, 542.8, \n",
    "543, 543.5, 543.8, 543.9, 545.3, 546.2, 548.8, 548.7, 548.9, \n",
    "549, 549.4, 549.9, 550.6, 551.2, 551.4, 551.5, 551.6, 552.8, \n",
    "552.9, 553.2])\n",
    "N = 48\n",
    "\n",
    "alpha = (1., 1.)"
   ]
  },
  {
   "cell_type": "code",
   "execution_count": 61,
   "id": "0442a720",
   "metadata": {},
   "outputs": [],
   "source": [
    "burn = 1000\n",
    "estimate = 10000"
   ]
  },
  {
   "cell_type": "code",
   "execution_count": 80,
   "id": "b670384e",
   "metadata": {},
   "outputs": [
    {
     "ename": "ZeroDivisionError",
     "evalue": "float division by zero",
     "output_type": "error",
     "traceback": [
      "\u001b[1;31m---------------------------------------------------------------------------\u001b[0m",
      "\u001b[1;31mZeroDivisionError\u001b[0m                         Traceback (most recent call last)",
      "Cell \u001b[1;32mIn[80], line 17\u001b[0m\n\u001b[0;32m     15\u001b[0m     a \u001b[38;5;241m=\u001b[39m \u001b[38;5;241m10\u001b[39m\u001b[38;5;241m*\u001b[39m\u001b[38;5;241m*\u001b[39m\u001b[38;5;241m10\u001b[39m\u001b[38;5;241m*\u001b[39m(p1)\u001b[38;5;241m*\u001b[39mexp(\u001b[38;5;241m-\u001b[39m\u001b[38;5;241m1\u001b[39m\u001b[38;5;241m*\u001b[39m(sigmasq\u001b[38;5;241m*\u001b[39m\u001b[38;5;241m*\u001b[39m\u001b[38;5;241m2\u001b[39m)\u001b[38;5;241m/\u001b[39m\u001b[38;5;241m2\u001b[39m\u001b[38;5;241m*\u001b[39m(y[n]\u001b[38;5;241m-\u001b[39mlambda_1)\u001b[38;5;241m*\u001b[39m\u001b[38;5;241m*\u001b[39m\u001b[38;5;241m2\u001b[39m)\n\u001b[0;32m     16\u001b[0m     b \u001b[38;5;241m=\u001b[39m \u001b[38;5;241m10\u001b[39m\u001b[38;5;241m*\u001b[39m\u001b[38;5;241m*\u001b[39m\u001b[38;5;241m10\u001b[39m\u001b[38;5;241m*\u001b[39m(\u001b[38;5;241m1\u001b[39m\u001b[38;5;241m-\u001b[39mp1)\u001b[38;5;241m*\u001b[39mexp(\u001b[38;5;241m-\u001b[39m\u001b[38;5;241m1\u001b[39m\u001b[38;5;241m*\u001b[39m(sigmasq\u001b[38;5;241m*\u001b[39m\u001b[38;5;241m*\u001b[39m\u001b[38;5;241m2\u001b[39m)\u001b[38;5;241m/\u001b[39m\u001b[38;5;241m2\u001b[39m\u001b[38;5;241m*\u001b[39m(y[n]\u001b[38;5;241m-\u001b[39mlambda_1 \u001b[38;5;241m-\u001b[39m theta)\u001b[38;5;241m*\u001b[39m\u001b[38;5;241m*\u001b[39m\u001b[38;5;241m2\u001b[39m)\n\u001b[1;32m---> 17\u001b[0m     T[n]\u001b[38;5;241m=\u001b[39mnp\u001b[38;5;241m.\u001b[39mrandom\u001b[38;5;241m.\u001b[39mchoice(np\u001b[38;5;241m.\u001b[39marray([\u001b[38;5;241m1\u001b[39m,\u001b[38;5;241m2\u001b[39m]),p\u001b[38;5;241m=\u001b[39mnp\u001b[38;5;241m.\u001b[39marray([a\u001b[38;5;241m/\u001b[39m(a\u001b[38;5;241m+\u001b[39mb),b\u001b[38;5;241m/\u001b[39m(a\u001b[38;5;241m+\u001b[39mb)]))     \n\u001b[0;32m     18\u001b[0m p1 \u001b[38;5;241m=\u001b[39m np\u001b[38;5;241m.\u001b[39mrandom\u001b[38;5;241m.\u001b[39mbeta(\u001b[38;5;241m1\u001b[39m\u001b[38;5;241m+\u001b[39mnp\u001b[38;5;241m.\u001b[39msum(T\u001b[38;5;241m-\u001b[39m\u001b[38;5;241m1\u001b[39m),\u001b[38;5;241m1\u001b[39m\u001b[38;5;241m-\u001b[39m\u001b[38;5;28msum\u001b[39m(T\u001b[38;5;241m-\u001b[39m\u001b[38;5;241m2\u001b[39m))\n\u001b[0;32m     22\u001b[0m lambda_1 \u001b[38;5;241m=\u001b[39m np\u001b[38;5;241m.\u001b[39mrandom\u001b[38;5;241m.\u001b[39mnormal(\u001b[38;5;241m1\u001b[39m\u001b[38;5;241m/\u001b[39mN \u001b[38;5;241m*\u001b[39m (np\u001b[38;5;241m.\u001b[39msum(y)\u001b[38;5;241m-\u001b[39mnp\u001b[38;5;241m.\u001b[39msum((T\u001b[38;5;241m-\u001b[39m\u001b[38;5;241m1\u001b[39m)\u001b[38;5;241m*\u001b[39mtheta)),\u001b[38;5;241m1\u001b[39m\u001b[38;5;241m/\u001b[39mn\u001b[38;5;241m*\u001b[39msigmasq\u001b[38;5;241m*\u001b[39m\u001b[38;5;241m*\u001b[39m\u001b[38;5;241m2\u001b[39m)\n",
      "\u001b[1;31mZeroDivisionError\u001b[0m: float division by zero"
     ]
    }
   ],
   "source": [
    "lambda_1 = 535\n",
    "theta = 5\n",
    "sigmasq = 10\n",
    "\n",
    "p1 = 0.5\n",
    "\n",
    "T = np.zeros(N)\n",
    "p1L = np.zeros(estimate)\n",
    "lambda_1L = np.zeros(estimate)\n",
    "thetaL = np.zeros(estimate)\n",
    "sigmasqL = np.zeros(estimate)\n",
    "\n",
    "for k in range(burn):\n",
    "    for n in range(N):\n",
    "        a = (p1)*exp((-1/(2*sigmasq**2))*(y[n]-lambda_1)**2)\n",
    "        b = (1-p1)*exp((-1/(2*sigmasq**2))*(y[n]-lambda_1 - theta)**2)\n",
    "        T[n]=np.random.choice(np.array([1,2]),p=np.array([a/(a+b),b/(a+b)]))     \n",
    "    p1 = np.random.beta(1+np.sum(T-1),1-sum(T-2))\n",
    "\n",
    "\n",
    "        \n",
    "    lambda_1 = np.random.normal(1/N * (np.sum(y)-np.sum((T-1)*theta)),1/n*sigmasq**2)\n",
    "    theta = np.random.normal(1/N * (np.sum((lambda_1 - y)*(T-1))),1/np.sum(T-1)*sigmasq**2)\n",
    "    sigmasq = 1/np.sqrt(invgamma.rvs(1+n/2,1+np.sum((y-lambda_1-(T-1)*theta)**2)/2))\n",
    "\n",
    "for k in range(estimate):\n",
    "    for n in range(N):\n",
    "        a = (p1)*exp((-1/(2*sigmasq**2))*(y[n]-lambda_1)**2)\n",
    "        b = (1-p1)*exp((-1/(2*sigmasq**2))*(y[n]-lambda_1 - theta)**2)\n",
    "        T[n]=np.random.choice(np.array([1,2]),p=np.array([a/(a+b),b/(a+b)]))\n",
    "                              \n",
    "    p1 = np.random.beta(1+np.sum(T-1),1-sum(T-2))\n",
    "    p1l[k]=p1\n",
    " \n",
    "        \n",
    "    lambda_1 = np.random.normal(1/N * (np.sum(y)-np.sum((T-1)*theta)),1/n*sigmasq**2)\n",
    "    lambda_1L[k] = lambda_1\n",
    "    theta = np.random.normal(1/N * (np.sum((lambda_1 - y)*(T-1))),1/np.sum(T-1)*sigmasq**2)\n",
    "    thetaL[k] = thetaL\n",
    "    sigmasq = 1/numpy.np(invgamma.rvs(1+n/2,1+np.sum((y-lambda_1-(T-1)*theta)**2)/2))\n",
    "    sigmasqL[k] = sigmasq"
   ]
  }
 ],
 "metadata": {
  "kernelspec": {
   "display_name": "Python 3 (ipykernel)",
   "language": "python",
   "name": "python3"
  },
  "language_info": {
   "codemirror_mode": {
    "name": "ipython",
    "version": 3
   },
   "file_extension": ".py",
   "mimetype": "text/x-python",
   "name": "python",
   "nbconvert_exporter": "python",
   "pygments_lexer": "ipython3",
   "version": "3.11.5"
  }
 },
 "nbformat": 4,
 "nbformat_minor": 5
}
